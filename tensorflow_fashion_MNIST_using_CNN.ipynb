{
  "nbformat": 4,
  "nbformat_minor": 0,
  "metadata": {
    "colab": {
      "name": "tensorflow_fashion_MNIST_using_CNN.ipynb",
      "provenance": [],
      "authorship_tag": "ABX9TyOdF4CN4PRmk834RnxlnmPE",
      "include_colab_link": true
    },
    "kernelspec": {
      "name": "python3",
      "display_name": "Python 3"
    }
  },
  "cells": [
    {
      "cell_type": "markdown",
      "metadata": {
        "id": "view-in-github",
        "colab_type": "text"
      },
      "source": [
        "<a href=\"https://colab.research.google.com/github/iamAbhi-916/Deep-Neural-Nets/blob/master/tensorflow_fashion_MNIST_using_CNN.ipynb\" target=\"_parent\"><img src=\"https://colab.research.google.com/assets/colab-badge.svg\" alt=\"Open In Colab\"/></a>"
      ]
    },
    {
      "cell_type": "code",
      "metadata": {
        "id": "Ck0YgW-J2F7p"
      },
      "source": [
        "import tensorflow as tf "
      ],
      "execution_count": 4,
      "outputs": []
    },
    {
      "cell_type": "code",
      "metadata": {
        "colab": {
          "base_uri": "https://localhost:8080/"
        },
        "id": "N346dvVN7939",
        "outputId": "7062a1c7-ef04-41e0-b9a8-f52885e06bdf"
      },
      "source": [
        "fm = tf.keras.datasets.fashion_mnist\r\n",
        "(X_train , y_train) , (X_test , y_test ) = fm.load_data()"
      ],
      "execution_count": 5,
      "outputs": [
        {
          "output_type": "stream",
          "text": [
            "Downloading data from https://storage.googleapis.com/tensorflow/tf-keras-datasets/train-labels-idx1-ubyte.gz\n",
            "32768/29515 [=================================] - 0s 0us/step\n",
            "Downloading data from https://storage.googleapis.com/tensorflow/tf-keras-datasets/train-images-idx3-ubyte.gz\n",
            "26427392/26421880 [==============================] - 0s 0us/step\n",
            "Downloading data from https://storage.googleapis.com/tensorflow/tf-keras-datasets/t10k-labels-idx1-ubyte.gz\n",
            "8192/5148 [===============================================] - 0s 0us/step\n",
            "Downloading data from https://storage.googleapis.com/tensorflow/tf-keras-datasets/t10k-images-idx3-ubyte.gz\n",
            "4423680/4422102 [==============================] - 0s 0us/step\n"
          ],
          "name": "stdout"
        }
      ]
    },
    {
      "cell_type": "code",
      "metadata": {
        "id": "UeTUyPpm8ScJ"
      },
      "source": [
        "Class_Names = ['T-shirt' ,'Trouser' , 'Pullover' , 'Dress' , 'coat','Sandal' ,'shirt' , 'sneaker' , 'Bag' , 'Ankle_boot']"
      ],
      "execution_count": 6,
      "outputs": []
    },
    {
      "cell_type": "code",
      "metadata": {
        "id": "NCTGPU4D9Mjn"
      },
      "source": [
        "#How CNN accepts Image as Input ndarray , first dimension for number of images and the next the dimensions of images ."
      ],
      "execution_count": 7,
      "outputs": []
    },
    {
      "cell_type": "code",
      "metadata": {
        "colab": {
          "base_uri": "https://localhost:8080/"
        },
        "id": "pR7o1VQ8-MjF",
        "outputId": "9329ec6c-d2e7-4c0c-a421-d64dd153bedf"
      },
      "source": [
        "X_train.shape"
      ],
      "execution_count": 8,
      "outputs": [
        {
          "output_type": "execute_result",
          "data": {
            "text/plain": [
              "(60000, 28, 28)"
            ]
          },
          "metadata": {
            "tags": []
          },
          "execution_count": 8
        }
      ]
    },
    {
      "cell_type": "code",
      "metadata": {
        "colab": {
          "base_uri": "https://localhost:8080/"
        },
        "id": "h_yd8QJs-7np",
        "outputId": "763865fd-116c-453c-e775-60e5ca6950e4"
      },
      "source": [
        "X_test.shape "
      ],
      "execution_count": 9,
      "outputs": [
        {
          "output_type": "execute_result",
          "data": {
            "text/plain": [
              "(10000, 28, 28)"
            ]
          },
          "metadata": {
            "tags": []
          },
          "execution_count": 9
        }
      ]
    },
    {
      "cell_type": "code",
      "metadata": {
        "id": "q8pluur493gM"
      },
      "source": [
        "X_train = X_train.reshape((X_train.shape[0], 28 , 28 , 1))\r\n",
        "X_test = X_test.reshape((X_test.shape[0],28 , 28 , 1))\r\n",
        "X_train = X_train/255.0\r\n",
        "X_test = X_test/255.0"
      ],
      "execution_count": 10,
      "outputs": []
    },
    {
      "cell_type": "code",
      "metadata": {
        "id": "_xvEjhQe_MFp"
      },
      "source": [
        "CnnModel = tf.keras.Sequential([#here below are Convolutional Layers\r\n",
        "                                tf.keras.layers.Conv2D(32,(3,3), input_shape=(28,28,1)),\r\n",
        "                                tf.keras.layers.MaxPooling2D((2,2)),\r\n",
        "                                tf.keras.layers.Conv2D(32,(3,3)),\r\n",
        "                                tf.keras.layers.MaxPooling2D((2,2)),\r\n",
        "\r\n",
        "                                # here below are fully connencted layers \r\n",
        "                               tf.keras.layers.Flatten(),\r\n",
        "                               tf.keras.layers.Dense(100 , activation='relu'),\r\n",
        "                               tf.keras.layers.Dropout(0.2),\r\n",
        "                               tf.keras.layers.Dense(50 , activation='relu'),\r\n",
        "                               tf.keras.layers.Dropout(0.1),\r\n",
        "                               tf.keras.layers.Dense(10 , activation='softmax')\r\n",
        "])"
      ],
      "execution_count": 12,
      "outputs": []
    },
    {
      "cell_type": "code",
      "metadata": {
        "id": "YqyXahVctQ4z"
      },
      "source": [
        "CnnModel.compile(optimizer = 'adam' , loss = 'categorical_crossentropy' , metrics =['accuracy'])"
      ],
      "execution_count": 13,
      "outputs": []
    },
    {
      "cell_type": "code",
      "metadata": {
        "colab": {
          "base_uri": "https://localhost:8080/"
        },
        "id": "nu6guaCYx7pt",
        "outputId": "b6b2b03f-aeb8-431e-b86c-0b134c3b152c"
      },
      "source": [
        "CnnModel.fit(X_train ,tf.keras.utils.to_categorical(y_train), epochs=10)"
      ],
      "execution_count": 15,
      "outputs": [
        {
          "output_type": "stream",
          "text": [
            "Epoch 1/10\n",
            "1875/1875 [==============================] - 42s 22ms/step - loss: 0.7480 - accuracy: 0.7253\n",
            "Epoch 2/10\n",
            "1875/1875 [==============================] - 41s 22ms/step - loss: 0.3733 - accuracy: 0.8625\n",
            "Epoch 3/10\n",
            "1875/1875 [==============================] - 41s 22ms/step - loss: 0.3216 - accuracy: 0.8824\n",
            "Epoch 4/10\n",
            "1875/1875 [==============================] - 41s 22ms/step - loss: 0.2911 - accuracy: 0.8931\n",
            "Epoch 5/10\n",
            "1875/1875 [==============================] - 40s 22ms/step - loss: 0.2622 - accuracy: 0.9049\n",
            "Epoch 6/10\n",
            "1875/1875 [==============================] - 41s 22ms/step - loss: 0.2420 - accuracy: 0.9099\n",
            "Epoch 7/10\n",
            "1875/1875 [==============================] - 40s 21ms/step - loss: 0.2329 - accuracy: 0.9130\n",
            "Epoch 8/10\n",
            "1875/1875 [==============================] - 41s 22ms/step - loss: 0.2160 - accuracy: 0.9205\n",
            "Epoch 9/10\n",
            "1875/1875 [==============================] - 41s 22ms/step - loss: 0.2068 - accuracy: 0.9232\n",
            "Epoch 10/10\n",
            "1875/1875 [==============================] - 41s 22ms/step - loss: 0.1947 - accuracy: 0.9274\n"
          ],
          "name": "stdout"
        },
        {
          "output_type": "execute_result",
          "data": {
            "text/plain": [
              "<tensorflow.python.keras.callbacks.History at 0x7fb9611444e0>"
            ]
          },
          "metadata": {
            "tags": []
          },
          "execution_count": 15
        }
      ]
    },
    {
      "cell_type": "code",
      "metadata": {
        "id": "nVh1xgq5yqZ3"
      },
      "source": [
        "# this is just an basic use of convolution , we can use various techniques such as early stopping and also  various hyperparameter tuning . Though this was just and simple demonstartion \r\n",
        "."
      ],
      "execution_count": null,
      "outputs": []
    }
  ]
}